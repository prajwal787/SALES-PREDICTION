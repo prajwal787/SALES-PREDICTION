{
  "nbformat": 4,
  "nbformat_minor": 0,
  "metadata": {
    "colab": {
      "provenance": []
    },
    "kernelspec": {
      "name": "python3",
      "display_name": "Python 3"
    },
    "language_info": {
      "name": "python"
    }
  },
  "cells": [
    {
      "cell_type": "markdown",
      "metadata": {
        "id": "22becdf9"
      },
      "source": [
        "# Sales Prediction Project Report\n",
        "\n",
        "## 1. Preface/Problem Statement\n",
        "\n",
        "In today's competitive market, businesses are constantly striving to optimize their advertising strategies to maximize sales and get the best return on investment (ROI). A key challenge is understanding the impact of various advertising channels on sales. Without a data-driven approach, allocating marketing budgets can be based on intuition rather than concrete evidence, leading to inefficient spending and missed opportunities. This project addresses this challenge by leveraging machine learning to analyze the relationship between advertising expenditure and product sales.\n",
        "\n",
        "## 2. Objective\n",
        "\n",
        "The primary objective of this project is to build a machine learning model that can accurately predict product sales based on the advertising budget spent on different platforms, namely TV, Radio, and Newspaper. By achieving this, we aim to:\n",
        "\n",
        "*   Identify which advertising channels are the most effective in driving sales.\n",
        "*   Provide actionable insights to help the business make informed decisions about budget allocation.\n",
        "*   Develop a reliable forecasting tool that can be used to predict future sales based on different advertising scenarios.\n",
        "\n",
        "## 3. Dataset Overview\n",
        "\n",
        "The dataset used for this project contains 200 instances, each representing a different market. The data includes the following features:\n",
        "\n",
        "*   **TV:** The advertising budget (in thousands of dollars) spent on TV.\n",
        "*   **Radio:** The advertising budget (in thousands of dollars) spent on Radio.\n",
        "*   **Newspaper:** The advertising budget (in thousands of dollars) spent on Newspaper.\n",
        "*   **Sales:** The corresponding sales of the product (in thousands of units).\n",
        "\n",
        "The dataset is clean, with no missing values, and all features are numerical.\n",
        "\n",
        "## 4. Tools and Libraries Used\n",
        "\n",
        "The following tools and Python libraries were used to perform the analysis and build the prediction model:\n",
        "\n",
        "*   **Python:** The core programming language used for the project.\n",
        "*   **Pandas:** For data manipulation and analysis, particularly for creating and working with DataFrames.\n",
        "*   **Matplotlib and Seaborn:** For data visualization to explore the relationships between variables.\n",
        "*   **Scikit-learn:** The primary machine learning library used for:\n",
        "    *   Splitting the data into training and testing sets (`train_test_split`).\n",
        "    *   Implementing the machine learning models (`LinearRegression`, `RandomForestRegressor`, `GradientBoostingRegressor`).\n",
        "    *   Evaluating the model performance (`mean_squared_error`, `r2_score`).\n",
        "*   **Google Colab:** As the interactive development environment for writing and executing the code."
      ]
    },
    {
      "cell_type": "code",
      "execution_count": 2,
      "metadata": {
        "colab": {
          "base_uri": "https://localhost:8080/"
        },
        "id": "qfuSmbMxb0mc",
        "outputId": "3af257cc-3cee-4a31-f575-ba90fc14d41d"
      },
      "outputs": [
        {
          "output_type": "stream",
          "name": "stdout",
          "text": [
            "Drive already mounted at /content/drive; to attempt to forcibly remount, call drive.mount(\"/content/drive\", force_remount=True).\n"
          ]
        }
      ],
      "source": [
        "from google.colab import drive\n",
        "drive.mount('/content/drive')"
      ]
    },
    {
      "cell_type": "code",
      "metadata": {
        "colab": {
          "base_uri": "https://localhost:8080/"
        },
        "id": "49a1d803",
        "outputId": "35860ad4-6f7f-496f-e37e-6b48aa21678e"
      },
      "source": [
        "!ls \"/content/drive/MyDrive/sales_advertisment\""
      ],
      "execution_count": 6,
      "outputs": [
        {
          "output_type": "stream",
          "name": "stdout",
          "text": [
            "sales_advertisment.zip\n"
          ]
        }
      ]
    },
    {
      "cell_type": "markdown",
      "source": [
        "#LOAD DATASET"
      ],
      "metadata": {
        "id": "QfEPitcnjebG"
      }
    },
    {
      "cell_type": "code",
      "metadata": {
        "colab": {
          "base_uri": "https://localhost:8080/"
        },
        "id": "bcdff141",
        "outputId": "e9286998-fe83-423c-be71-34f119911770"
      },
      "source": [
        "!unzip \"/content/drive/MyDrive/sales_advertisment/sales_advertisment.zip\" -d \"/content/drive/MyDrive/sales_advertisment/\""
      ],
      "execution_count": 7,
      "outputs": [
        {
          "output_type": "stream",
          "name": "stdout",
          "text": [
            "Archive:  /content/drive/MyDrive/sales_advertisment/sales_advertisment.zip\n",
            "  inflating: /content/drive/MyDrive/sales_advertisment/advertising.csv  \n"
          ]
        }
      ]
    },
    {
      "cell_type": "code",
      "metadata": {
        "colab": {
          "base_uri": "https://localhost:8080/",
          "height": 206
        },
        "id": "be16d4e5",
        "outputId": "e803c142-f2d2-4211-8aa6-ce0a3d9bf360"
      },
      "source": [
        "import pandas as pd\n",
        "df = pd.read_csv('/content/drive/MyDrive/sales_advertisment/advertising.csv')\n",
        "df.head()"
      ],
      "execution_count": 9,
      "outputs": [
        {
          "output_type": "execute_result",
          "data": {
            "text/plain": [
              "      TV  Radio  Newspaper  Sales\n",
              "0  230.1   37.8       69.2   22.1\n",
              "1   44.5   39.3       45.1   10.4\n",
              "2   17.2   45.9       69.3   12.0\n",
              "3  151.5   41.3       58.5   16.5\n",
              "4  180.8   10.8       58.4   17.9"
            ],
            "text/html": [
              "\n",
              "  <div id=\"df-4ce9f7da-b099-4f10-bea3-2a90aa95afee\" class=\"colab-df-container\">\n",
              "    <div>\n",
              "<style scoped>\n",
              "    .dataframe tbody tr th:only-of-type {\n",
              "        vertical-align: middle;\n",
              "    }\n",
              "\n",
              "    .dataframe tbody tr th {\n",
              "        vertical-align: top;\n",
              "    }\n",
              "\n",
              "    .dataframe thead th {\n",
              "        text-align: right;\n",
              "    }\n",
              "</style>\n",
              "<table border=\"1\" class=\"dataframe\">\n",
              "  <thead>\n",
              "    <tr style=\"text-align: right;\">\n",
              "      <th></th>\n",
              "      <th>TV</th>\n",
              "      <th>Radio</th>\n",
              "      <th>Newspaper</th>\n",
              "      <th>Sales</th>\n",
              "    </tr>\n",
              "  </thead>\n",
              "  <tbody>\n",
              "    <tr>\n",
              "      <th>0</th>\n",
              "      <td>230.1</td>\n",
              "      <td>37.8</td>\n",
              "      <td>69.2</td>\n",
              "      <td>22.1</td>\n",
              "    </tr>\n",
              "    <tr>\n",
              "      <th>1</th>\n",
              "      <td>44.5</td>\n",
              "      <td>39.3</td>\n",
              "      <td>45.1</td>\n",
              "      <td>10.4</td>\n",
              "    </tr>\n",
              "    <tr>\n",
              "      <th>2</th>\n",
              "      <td>17.2</td>\n",
              "      <td>45.9</td>\n",
              "      <td>69.3</td>\n",
              "      <td>12.0</td>\n",
              "    </tr>\n",
              "    <tr>\n",
              "      <th>3</th>\n",
              "      <td>151.5</td>\n",
              "      <td>41.3</td>\n",
              "      <td>58.5</td>\n",
              "      <td>16.5</td>\n",
              "    </tr>\n",
              "    <tr>\n",
              "      <th>4</th>\n",
              "      <td>180.8</td>\n",
              "      <td>10.8</td>\n",
              "      <td>58.4</td>\n",
              "      <td>17.9</td>\n",
              "    </tr>\n",
              "  </tbody>\n",
              "</table>\n",
              "</div>\n",
              "    <div class=\"colab-df-buttons\">\n",
              "\n",
              "  <div class=\"colab-df-container\">\n",
              "    <button class=\"colab-df-convert\" onclick=\"convertToInteractive('df-4ce9f7da-b099-4f10-bea3-2a90aa95afee')\"\n",
              "            title=\"Convert this dataframe to an interactive table.\"\n",
              "            style=\"display:none;\">\n",
              "\n",
              "  <svg xmlns=\"http://www.w3.org/2000/svg\" height=\"24px\" viewBox=\"0 -960 960 960\">\n",
              "    <path d=\"M120-120v-720h720v720H120Zm60-500h600v-160H180v160Zm220 220h160v-160H400v160Zm0 220h160v-160H400v160ZM180-400h160v-160H180v160Zm440 0h160v-160H620v160ZM180-180h160v-160H180v160Zm440 0h160v-160H620v160Z\"/>\n",
              "  </svg>\n",
              "    </button>\n",
              "\n",
              "  <style>\n",
              "    .colab-df-container {\n",
              "      display:flex;\n",
              "      gap: 12px;\n",
              "    }\n",
              "\n",
              "    .colab-df-convert {\n",
              "      background-color: #E8F0FE;\n",
              "      border: none;\n",
              "      border-radius: 50%;\n",
              "      cursor: pointer;\n",
              "      display: none;\n",
              "      fill: #1967D2;\n",
              "      height: 32px;\n",
              "      padding: 0 0 0 0;\n",
              "      width: 32px;\n",
              "    }\n",
              "\n",
              "    .colab-df-convert:hover {\n",
              "      background-color: #E2EBFA;\n",
              "      box-shadow: 0px 1px 2px rgba(60, 64, 67, 0.3), 0px 1px 3px 1px rgba(60, 64, 67, 0.15);\n",
              "      fill: #174EA6;\n",
              "    }\n",
              "\n",
              "    .colab-df-buttons div {\n",
              "      margin-bottom: 4px;\n",
              "    }\n",
              "\n",
              "    [theme=dark] .colab-df-convert {\n",
              "      background-color: #3B4455;\n",
              "      fill: #D2E3FC;\n",
              "    }\n",
              "\n",
              "    [theme=dark] .colab-df-convert:hover {\n",
              "      background-color: #434B5C;\n",
              "      box-shadow: 0px 1px 3px 1px rgba(0, 0, 0, 0.15);\n",
              "      filter: drop-shadow(0px 1px 2px rgba(0, 0, 0, 0.3));\n",
              "      fill: #FFFFFF;\n",
              "    }\n",
              "  </style>\n",
              "\n",
              "    <script>\n",
              "      const buttonEl =\n",
              "        document.querySelector('#df-4ce9f7da-b099-4f10-bea3-2a90aa95afee button.colab-df-convert');\n",
              "      buttonEl.style.display =\n",
              "        google.colab.kernel.accessAllowed ? 'block' : 'none';\n",
              "\n",
              "      async function convertToInteractive(key) {\n",
              "        const element = document.querySelector('#df-4ce9f7da-b099-4f10-bea3-2a90aa95afee');\n",
              "        const dataTable =\n",
              "          await google.colab.kernel.invokeFunction('convertToInteractive',\n",
              "                                                    [key], {});\n",
              "        if (!dataTable) return;\n",
              "\n",
              "        const docLinkHtml = 'Like what you see? Visit the ' +\n",
              "          '<a target=\"_blank\" href=https://colab.research.google.com/notebooks/data_table.ipynb>data table notebook</a>'\n",
              "          + ' to learn more about interactive tables.';\n",
              "        element.innerHTML = '';\n",
              "        dataTable['output_type'] = 'display_data';\n",
              "        await google.colab.output.renderOutput(dataTable, element);\n",
              "        const docLink = document.createElement('div');\n",
              "        docLink.innerHTML = docLinkHtml;\n",
              "        element.appendChild(docLink);\n",
              "      }\n",
              "    </script>\n",
              "  </div>\n",
              "\n",
              "\n",
              "    <div id=\"df-34f314a8-8f83-4787-baff-8be7027e05f3\">\n",
              "      <button class=\"colab-df-quickchart\" onclick=\"quickchart('df-34f314a8-8f83-4787-baff-8be7027e05f3')\"\n",
              "                title=\"Suggest charts\"\n",
              "                style=\"display:none;\">\n",
              "\n",
              "<svg xmlns=\"http://www.w3.org/2000/svg\" height=\"24px\"viewBox=\"0 0 24 24\"\n",
              "     width=\"24px\">\n",
              "    <g>\n",
              "        <path d=\"M19 3H5c-1.1 0-2 .9-2 2v14c0 1.1.9 2 2 2h14c1.1 0 2-.9 2-2V5c0-1.1-.9-2-2-2zM9 17H7v-7h2v7zm4 0h-2V7h2v10zm4 0h-2v-4h2v4z\"/>\n",
              "    </g>\n",
              "</svg>\n",
              "      </button>\n",
              "\n",
              "<style>\n",
              "  .colab-df-quickchart {\n",
              "      --bg-color: #E8F0FE;\n",
              "      --fill-color: #1967D2;\n",
              "      --hover-bg-color: #E2EBFA;\n",
              "      --hover-fill-color: #174EA6;\n",
              "      --disabled-fill-color: #AAA;\n",
              "      --disabled-bg-color: #DDD;\n",
              "  }\n",
              "\n",
              "  [theme=dark] .colab-df-quickchart {\n",
              "      --bg-color: #3B4455;\n",
              "      --fill-color: #D2E3FC;\n",
              "      --hover-bg-color: #434B5C;\n",
              "      --hover-fill-color: #FFFFFF;\n",
              "      --disabled-bg-color: #3B4455;\n",
              "      --disabled-fill-color: #666;\n",
              "  }\n",
              "\n",
              "  .colab-df-quickchart {\n",
              "    background-color: var(--bg-color);\n",
              "    border: none;\n",
              "    border-radius: 50%;\n",
              "    cursor: pointer;\n",
              "    display: none;\n",
              "    fill: var(--fill-color);\n",
              "    height: 32px;\n",
              "    padding: 0;\n",
              "    width: 32px;\n",
              "  }\n",
              "\n",
              "  .colab-df-quickchart:hover {\n",
              "    background-color: var(--hover-bg-color);\n",
              "    box-shadow: 0 1px 2px rgba(60, 64, 67, 0.3), 0 1px 3px 1px rgba(60, 64, 67, 0.15);\n",
              "    fill: var(--button-hover-fill-color);\n",
              "  }\n",
              "\n",
              "  .colab-df-quickchart-complete:disabled,\n",
              "  .colab-df-quickchart-complete:disabled:hover {\n",
              "    background-color: var(--disabled-bg-color);\n",
              "    fill: var(--disabled-fill-color);\n",
              "    box-shadow: none;\n",
              "  }\n",
              "\n",
              "  .colab-df-spinner {\n",
              "    border: 2px solid var(--fill-color);\n",
              "    border-color: transparent;\n",
              "    border-bottom-color: var(--fill-color);\n",
              "    animation:\n",
              "      spin 1s steps(1) infinite;\n",
              "  }\n",
              "\n",
              "  @keyframes spin {\n",
              "    0% {\n",
              "      border-color: transparent;\n",
              "      border-bottom-color: var(--fill-color);\n",
              "      border-left-color: var(--fill-color);\n",
              "    }\n",
              "    20% {\n",
              "      border-color: transparent;\n",
              "      border-left-color: var(--fill-color);\n",
              "      border-top-color: var(--fill-color);\n",
              "    }\n",
              "    30% {\n",
              "      border-color: transparent;\n",
              "      border-left-color: var(--fill-color);\n",
              "      border-top-color: var(--fill-color);\n",
              "      border-right-color: var(--fill-color);\n",
              "    }\n",
              "    40% {\n",
              "      border-color: transparent;\n",
              "      border-right-color: var(--fill-color);\n",
              "      border-top-color: var(--fill-color);\n",
              "    }\n",
              "    60% {\n",
              "      border-color: transparent;\n",
              "      border-right-color: var(--fill-color);\n",
              "    }\n",
              "    80% {\n",
              "      border-color: transparent;\n",
              "      border-right-color: var(--fill-color);\n",
              "      border-bottom-color: var(--fill-color);\n",
              "    }\n",
              "    90% {\n",
              "      border-color: transparent;\n",
              "      border-bottom-color: var(--fill-color);\n",
              "    }\n",
              "  }\n",
              "</style>\n",
              "\n",
              "      <script>\n",
              "        async function quickchart(key) {\n",
              "          const quickchartButtonEl =\n",
              "            document.querySelector('#' + key + ' button');\n",
              "          quickchartButtonEl.disabled = true;  // To prevent multiple clicks.\n",
              "          quickchartButtonEl.classList.add('colab-df-spinner');\n",
              "          try {\n",
              "            const charts = await google.colab.kernel.invokeFunction(\n",
              "                'suggestCharts', [key], {});\n",
              "          } catch (error) {\n",
              "            console.error('Error during call to suggestCharts:', error);\n",
              "          }\n",
              "          quickchartButtonEl.classList.remove('colab-df-spinner');\n",
              "          quickchartButtonEl.classList.add('colab-df-quickchart-complete');\n",
              "        }\n",
              "        (() => {\n",
              "          let quickchartButtonEl =\n",
              "            document.querySelector('#df-34f314a8-8f83-4787-baff-8be7027e05f3 button');\n",
              "          quickchartButtonEl.style.display =\n",
              "            google.colab.kernel.accessAllowed ? 'block' : 'none';\n",
              "        })();\n",
              "      </script>\n",
              "    </div>\n",
              "\n",
              "    </div>\n",
              "  </div>\n"
            ],
            "application/vnd.google.colaboratory.intrinsic+json": {
              "type": "dataframe",
              "variable_name": "df",
              "summary": "{\n  \"name\": \"df\",\n  \"rows\": 200,\n  \"fields\": [\n    {\n      \"column\": \"TV\",\n      \"properties\": {\n        \"dtype\": \"number\",\n        \"std\": 85.8542363149081,\n        \"min\": 0.7,\n        \"max\": 296.4,\n        \"num_unique_values\": 190,\n        \"samples\": [\n          287.6,\n          286.0,\n          78.2\n        ],\n        \"semantic_type\": \"\",\n        \"description\": \"\"\n      }\n    },\n    {\n      \"column\": \"Radio\",\n      \"properties\": {\n        \"dtype\": \"number\",\n        \"std\": 14.846809176168723,\n        \"min\": 0.0,\n        \"max\": 49.6,\n        \"num_unique_values\": 167,\n        \"samples\": [\n          8.2,\n          36.9,\n          44.5\n        ],\n        \"semantic_type\": \"\",\n        \"description\": \"\"\n      }\n    },\n    {\n      \"column\": \"Newspaper\",\n      \"properties\": {\n        \"dtype\": \"number\",\n        \"std\": 21.778620838522833,\n        \"min\": 0.3,\n        \"max\": 114.0,\n        \"num_unique_values\": 172,\n        \"samples\": [\n          22.3,\n          5.7,\n          17.0\n        ],\n        \"semantic_type\": \"\",\n        \"description\": \"\"\n      }\n    },\n    {\n      \"column\": \"Sales\",\n      \"properties\": {\n        \"dtype\": \"number\",\n        \"std\": 5.283892252561874,\n        \"min\": 1.6,\n        \"max\": 27.0,\n        \"num_unique_values\": 121,\n        \"samples\": [\n          19.8,\n          22.6,\n          17.9\n        ],\n        \"semantic_type\": \"\",\n        \"description\": \"\"\n      }\n    }\n  ]\n}"
            }
          },
          "metadata": {},
          "execution_count": 9
        }
      ]
    },
    {
      "cell_type": "code",
      "metadata": {
        "colab": {
          "base_uri": "https://localhost:8080/"
        },
        "id": "f288da77",
        "outputId": "b608e98e-ebd7-459c-ec2c-2631c79470a6"
      },
      "source": [
        "print(df.info())\n",
        "print(\"\\nMissing values:\")\n",
        "print(df.isnull().sum())"
      ],
      "execution_count": 10,
      "outputs": [
        {
          "output_type": "stream",
          "name": "stdout",
          "text": [
            "<class 'pandas.core.frame.DataFrame'>\n",
            "RangeIndex: 200 entries, 0 to 199\n",
            "Data columns (total 4 columns):\n",
            " #   Column     Non-Null Count  Dtype  \n",
            "---  ------     --------------  -----  \n",
            " 0   TV         200 non-null    float64\n",
            " 1   Radio      200 non-null    float64\n",
            " 2   Newspaper  200 non-null    float64\n",
            " 3   Sales      200 non-null    float64\n",
            "dtypes: float64(4)\n",
            "memory usage: 6.4 KB\n",
            "None\n",
            "\n",
            "Missing values:\n",
            "TV           0\n",
            "Radio        0\n",
            "Newspaper    0\n",
            "Sales        0\n",
            "dtype: int64\n"
          ]
        }
      ]
    },
    {
      "cell_type": "markdown",
      "source": [
        "# Explonatory data analysis(EDA)"
      ],
      "metadata": {
        "id": "M7WWeYdkjk_Z"
      }
    },
    {
      "cell_type": "code",
      "metadata": {
        "colab": {
          "base_uri": "https://localhost:8080/",
          "height": 527
        },
        "id": "50ce98d3",
        "outputId": "6d3a1612-2f02-409f-af88-b83ceac69a0c"
      },
      "source": [
        "import seaborn as sns\n",
        "import matplotlib.pyplot as plt\n",
        "\n",
        "# Create scatter plots to visualize the relationship between each advertising channel and Sales\n",
        "plt.figure(figsize=(15, 5))\n",
        "\n",
        "plt.subplot(1, 3, 1)\n",
        "sns.scatterplot(data=df, x='TV', y='Sales')\n",
        "plt.title('TV Advertising vs. Sales')\n",
        "\n",
        "plt.subplot(1, 3, 2)\n",
        "sns.scatterplot(data=df, x='Radio', y='Sales')\n",
        "plt.title('Radio Advertising vs. Sales')\n",
        "\n",
        "plt.subplot(1, 3, 3)\n",
        "sns.scatterplot(data=df, x='Newspaper', y='Sales')\n",
        "plt.title('Newspaper Advertising vs. Sales')\n",
        "\n",
        "plt.tight_layout()\n",
        "plt.show()"
      ],
      "execution_count": 11,
      "outputs": [
        {
          "output_type": "display_data",
          "data": {
            "text/plain": [
              "<Figure size 1500x500 with 3 Axes>"
            ],
            "image/png": "[encoded data removed]"
          },
          "metadata": {}
        }
      ]
    },
    {
      "cell_type": "markdown",
      "source": [
        "# Insights(EDA)\n",
        "* TV Advertising vs. Sales: There appears to be a strong positive linear relationship. As TV advertising spending increases, sales also tend to increase.\n",
        "\n",
        "* Radio Advertising vs. Sales: There's also a positive relationship, but it seems a bit more scattered than the TV advertising relationship.\n",
        "* Newspaper Advertising vs. Sales: This relationship is much weaker and more scattered, suggesting that newspaper advertising has less of an impact on sales compared to TV and radio."
      ],
      "metadata": {
        "id": "Bj2dhJ7fgHuz"
      }
    },
    {
      "cell_type": "markdown",
      "source": [
        "# TRAIN-TEST-SPLIT(MODEL BUILDING)"
      ],
      "metadata": {
        "id": "BjgObi3fjzsM"
      }
    },
    {
      "cell_type": "code",
      "metadata": {
        "colab": {
          "base_uri": "https://localhost:8080/"
        },
        "id": "6039ba4b",
        "outputId": "610b81ba-6d6c-4423-e63b-95e947f0c191"
      },
      "source": [
        "from sklearn.model_selection import train_test_split\n",
        "from sklearn.linear_model import LinearRegression\n",
        "from sklearn.ensemble import RandomForestRegressor, GradientBoostingRegressor\n",
        "from sklearn.metrics import mean_squared_error, r2_score\n",
        "\n",
        "# Prepare the data\n",
        "X = df[['TV', 'Radio', 'Newspaper']]\n",
        "y = df['Sales']\n",
        "\n",
        "# Split the data into training and testing sets\n",
        "X_train, X_test, y_train, y_test = train_test_split(X, y, test_size=0.2, random_state=42)\n",
        "\n",
        "# Initialize the models\n",
        "models = {\n",
        "    \"Linear Regression\": LinearRegression(),\n",
        "    \"Random Forest\": RandomForestRegressor(random_state=42),\n",
        "    \"Gradient Boosting\": GradientBoostingRegressor(random_state=42)\n",
        "}\n",
        "\n",
        "# Train and evaluate each model\n",
        "for name, model in models.items():\n",
        "    model.fit(X_train, y_train)\n",
        "    y_pred = model.predict(X_test)\n",
        "\n",
        "    print(f\"--- {name} ---\")\n",
        "    print(f\"MSE: {mean_squared_error(y_test, y_pred):.2f}\")\n",
        "    print(f\"R-squared: {r2_score(y_test, y_pred):.2f}\\n\")"
      ],
      "execution_count": 12,
      "outputs": [
        {
          "output_type": "stream",
          "name": "stdout",
          "text": [
            "--- Linear Regression ---\n",
            "MSE: 2.91\n",
            "R-squared: 0.91\n",
            "\n",
            "--- Random Forest ---\n",
            "MSE: 1.44\n",
            "R-squared: 0.95\n",
            "\n",
            "--- Gradient Boosting ---\n",
            "MSE: 1.26\n",
            "R-squared: 0.96\n",
            "\n"
          ]
        }
      ]
    },
    {
      "cell_type": "markdown",
      "metadata": {
        "id": "9ade14e1"
      },
      "source": [
        "## Model Performance and Insights\n",
        "\n",
        "The results from our model training and evaluation show that the **Gradient Boosting** model is the best-performing model for predicting sales.\n",
        "\n",
        "### Model Metrics:\n",
        "\n",
        "*   **Linear Regression:**\n",
        "    *   Mean Squared Error (MSE): 2.91\n",
        "    *   R-squared: 0.91\n",
        "*   **Random Forest:**\n",
        "    *   MSE: 1.44\n",
        "    *   R-squared: 0.95\n",
        "*   **Gradient Boosting:**\n",
        "    *   MSE: 1.26\n",
        "    *   R-squared: 0.96\n",
        "\n",
        "### Interpretation:\n",
        "\n",
        "*   The **R-squared** value tells us the proportion of the variance in the sales that is predictable from the advertising spending. All three models have a high R-squared value, indicating that they are all good at predicting sales.\n",
        "*   The **Mean Squared Error (MSE)** is the average of the squares of the errors. A lower MSE is better.\n",
        "*   **Gradient Boosting** is the best-performing model with the lowest MSE (1.26) and the highest R-squared (0.96). This means it is the most accurate model for predicting sales based on this data.\n",
        "\n",
        "### Actionable Insights:\n",
        "\n",
        "Based on our analysis, here are the key takeaways:\n",
        "\n",
        "*   **TV and Radio advertising are the most effective channels for driving sales.**\n",
        "*   **Newspaper advertising has a much weaker impact on sales.**\n",
        "*   **The Gradient Boosting model is the most accurate for predicting sales.**\n",
        "\n",
        "To maximize sales, the business should consider the following:\n",
        "\n",
        "1.  **Increase investment in TV and Radio advertising:** These channels have the strongest positive correlation with sales.\n",
        "2.  **Re-evaluate Newspaper advertising:** The return on investment for newspaper advertising appears to be low. The business could consider reducing or eliminating this channel and reallocating the budget to TV and Radio.\n",
        "3.  **Use the Gradient Boosting model for sales forecasting:** This model can be used to predict future sales based on different advertising budget scenarios, helping the business make data-driven decisions."
      ]
    },
    {
      "cell_type": "markdown",
      "metadata": {
        "id": "429b6971"
      },
      "source": [
        "# Model Comparison\n",
        "\n",
        "| Model | Mean Squared Error (MSE) | R-squared |\n",
        "|---|---|---|\n",
        "| Linear Regression | 2.91 | 0.91 |\n",
        "| Random Forest | 1.44 | 0.95 |\n",
        "| **Gradient Boosting** | **1.26** | **0.96** |"
      ]
    },
    {
      "cell_type": "markdown",
      "source": [
        "# CHALLENGES FACED:\n",
        "* Data Issues: Dealing with missing or inaccurate data.\n",
        "* Feature Complexity: Identifying and engineering the right features beyond the basics (e.g., seasonality, competitor data).\n",
        "* Model Optimization: Choosing the best model and tuning its parameters for optimal performance.\n",
        "* Interpretability: Balancing the need for an accurate model with the need for an understandable one."
      ],
      "metadata": {
        "id": "sgRMFI-ohCKB"
      }
    },
    {
      "cell_type": "markdown",
      "metadata": {
        "id": "acbc40f7"
      },
      "source": [
        "# CONCLUSION\n",
        "This project successfully developed a sales prediction model using machine learning. Our analysis shows that TV and Radio are the most effective advertising channels, while Newspaper advertising has a minimal impact. The Gradient Boosting model proved to be the most accurate for forecasting sales.\n",
        "\n",
        "**Recommendation:** To maximize sales, the business should increase investment in TV and Radio advertising, reduce or eliminate newspaper ads, and use the Gradient Boosting model for future sales predictions."
      ]
    }
  ]
}